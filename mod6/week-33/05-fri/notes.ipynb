{
 "cells": [
  {
   "cell_type": "markdown",
   "metadata": {},
   "source": [
    "## Today's Topics:\n",
    "Tuples\n",
    "Ranges\n",
    "List Comprehensions\n",
    "\n",
    "\n",
    "### Tuples\n",
    "\n",
    "Docs link:\n",
    "https://docs.python.org/3.9/library/stdtypes.html?highlight=tuple#tuple\n",
    "\n",
    "---\n",
    "\n",
    "Tuples are an ordered, immutable collection type.\n",
    "\n",
    "They are defined using parentheses `()`, with values separated by a comma.\n"
   ]
  },
  {
   "cell_type": "code",
   "execution_count": 1,
   "metadata": {},
   "outputs": [
    {
     "name": "stdout",
     "output_type": "stream",
     "text": [
      "(1, 2, 3, 4, 5, 6, 7, 8, 9)\n",
      "('a', 'b', 'c', 'd', 'e')\n",
      "(10, 20, 30)\n"
     ]
    }
   ],
   "source": [
    "a = (1, 2, 3, 4, 5, 6, 7, 8, 9)\n",
    "b = (\"a\", \"b\", \"c\", \"d\", \"e\")\n",
    "c = 10, 20, 30\n",
    "\n",
    "print(a)  # (1, 2, 3, 4, 5, 6, 7, 8, 9)\n",
    "print(b)  # ('a', 'b', 'c', 'd', 'e')\n",
    "print(c)  # (10, 20, 30)"
   ]
  },
  {
   "cell_type": "markdown",
   "metadata": {},
   "source": [
    "### Tuples are immutable\n",
    "\n",
    "- You cannot append, remove, or sort the tuple in place.\n",
    "- We can concatenate tuples together, but the result will be an entirely new tuple"
   ]
  },
  {
   "cell_type": "code",
   "execution_count": 2,
   "metadata": {},
   "outputs": [
    {
     "name": "stdout",
     "output_type": "stream",
     "text": [
      "('yellow', 'green')\n",
      "('yellow', 'green', 'red', 'blue')\n"
     ]
    }
   ],
   "source": [
    "tup = (\"red\", \"blue\")\n",
    "tup = (\"yellow\", \"green\")  # no error, this works\n",
    "print(tup)  # (\"yellow\", \"green\")\n",
    "tup += (\"red\", \"blue\")  # no error, this works\n",
    "print(tup)  # (\"yellow\", \"green\", \"red\", \"blue\")"
   ]
  },
  {
   "cell_type": "markdown",
   "metadata": {},
   "source": [
    "### Empty or \"Singleton\" Tuples\n",
    "- An empty tuple must be defined using parentheses ()\n",
    "- A tuple with a single value must have a trailing comma"
   ]
  },
  {
   "cell_type": "code",
   "execution_count": 3,
   "metadata": {},
   "outputs": [
    {
     "name": "stdout",
     "output_type": "stream",
     "text": [
      "()\n"
     ]
    }
   ],
   "source": [
    "empty = ()\n",
    "print(empty)"
   ]
  },
  {
   "cell_type": "code",
   "execution_count": 5,
   "metadata": {},
   "outputs": [
    {
     "name": "stdout",
     "output_type": "stream",
     "text": [
      "(1,)\n",
      "(1,)\n"
     ]
    }
   ],
   "source": [
    "single = (1,)\n",
    "other_single = 1,\n",
    "\n",
    "print(single)\n",
    "print(other_single)"
   ]
  },
  {
   "cell_type": "markdown",
   "metadata": {},
   "source": [
    "### Sorting\n",
    "\n",
    "The `sorted()` function works on tuples, just like lists. This will return a list by default."
   ]
  },
  {
   "cell_type": "code",
   "execution_count": 7,
   "metadata": {},
   "outputs": [
    {
     "name": "stdout",
     "output_type": "stream",
     "text": [
      "['apple', 'banana', 'kiwi']\n",
      "('apple', 'banana', 'kiwi')\n",
      "('banana', 'apple', 'kiwi')\n"
     ]
    }
   ],
   "source": [
    "fruits = (\"banana\", \"apple\", \"kiwi\")\n",
    "print(sorted(fruits))  # ['apple', 'banana', 'kiwi']\n",
    "sorted_fruits = tuple(sorted(fruits))\n",
    "print(sorted_fruits)\n",
    "print(fruits)"
   ]
  },
  {
   "cell_type": "markdown",
   "metadata": {},
   "source": [
    "\n",
    "### Tuple Practices (35 min)\n",
    "- Explore the Tuple - 5 min\n",
    "- Sort Tuple - 3 min\n",
    "- Add Value - 3 min\n",
    "- Concat Tuple - 3 min\n",
    "- Big Words - 3 min\n",
    "- Recursive Add - 5 min\n",
    "- Index Sort - 5 min\n",
    "- Fill Tuple - 5 min\n",
    "- Bubble Sum - Challenge - 20 min\n",
    "- Tuple With Same Product - Challenge - 20 min\n"
   ]
  },
  {
   "cell_type": "markdown",
   "metadata": {},
   "source": [
    "## Ranges\n",
    "\n",
    "Docs link:\n",
    "https://docs.python.org/3.9/library/stdtypes.html?highlight=range#range\n",
    "\n",
    "---\n",
    "\n",
    "### The `range` object\n",
    "\n",
    "- An immutable sequence of numbers in order\n",
    "- Arguments:\n",
    "  - start (default 0)\n",
    "  - stop (required)\n",
    "  - step (default 1)\n",
    "- Can go in forward or reverse order\n",
    "- Range is exclusive(the stop argument is not included in the returned list)\n",
    "\n",
    "---\n",
    "\n",
    "### Declaring Basic Ranges"
   ]
  },
  {
   "cell_type": "code",
   "execution_count": 8,
   "metadata": {},
   "outputs": [
    {
     "name": "stdout",
     "output_type": "stream",
     "text": [
      "[0, 1, 2, 3, 4, 5, 6, 7, 8, 9]\n"
     ]
    }
   ],
   "source": [
    "num_range = range(10)\n",
    "print(list(num_range))"
   ]
  },
  {
   "cell_type": "code",
   "execution_count": 9,
   "metadata": {},
   "outputs": [
    {
     "name": "stdout",
     "output_type": "stream",
     "text": [
      "[51, 50, 49, 48, 47, 46, 45, 44, 43, 42, 41, 40, 39, 38, 37, 36, 35, 34, 33, 32, 31, 30, 29, 28, 27, 26, 25, 24, 23, 22, 21, 20, 19, 18, 17, 16, 15, 14, 13, 12, 11, 10, 9, 8, 7, 6]\n"
     ]
    }
   ],
   "source": [
    "reversed = range(51, 5, -1) # start, end, step\n",
    "print(list(reversed))"
   ]
  },
  {
   "cell_type": "markdown",
   "metadata": {},
   "source": [
    "### For loops and the `range` object\n",
    "\n",
    "`range` gives us access to both the current element and its index in the list"
   ]
  },
  {
   "cell_type": "code",
   "execution_count": 10,
   "metadata": {},
   "outputs": [
    {
     "name": "stdout",
     "output_type": "stream",
     "text": [
      "0 <-idx    1 <--- el\n",
      "1 <-idx    2 <--- el\n",
      "2 <-idx    3 <--- el\n"
     ]
    }
   ],
   "source": [
    "items = [1,2,3]\n",
    "\n",
    "for i in range(len(items)):\n",
    "    print(i, \"<-idx   \", items[i], \"<--- el\")"
   ]
  },
  {
   "cell_type": "code",
   "execution_count": 11,
   "metadata": {},
   "outputs": [
    {
     "name": "stdout",
     "output_type": "stream",
     "text": [
      "1\n",
      "3\n",
      "5\n",
      "7\n",
      "9\n"
     ]
    }
   ],
   "source": [
    "for i in range(1, 10, 2): #start, end, step\n",
    "    print(i)"
   ]
  },
  {
   "cell_type": "markdown",
   "metadata": {},
   "source": [
    "### Range Practices (50 min)\n",
    "- Explore the Range - 5 min\n",
    "- Range Loops - 2 min\n",
    "- Factorial - 5 min\n",
    "- Check Nested Arrays - 10 min\n",
    "- Maximum Difference - 5 min\n",
    "- Find The Smallest Number In A List - 5 min\n",
    "- Range List - Challenge - 5 min\n",
    "- Range Sum of BST - Challenge - 10 min\n",
    "\n",
    "\n",
    "---\n"
   ]
  },
  {
   "cell_type": "markdown",
   "metadata": {},
   "source": [
    "\n",
    "## Comprehensions\n",
    "\n",
    "---\n",
    "\n",
    "### Comprehensions\n",
    "\n",
    "Comprehensions are composed of an expression followed by a `for...in` statement, followed by an optional `if` clause. They can be used to create new lists (or other mutable sequence types).\n",
    "\n",
    "It generally follows this syntax:\n",
    "\n",
    "```py\n",
    "my_list = [expression for member in iterable]\n",
    "# with optional if statement\n",
    "my_list = [expression for member in iterable if condition]\n",
    "```\n",
    "\n",
    "Lets see an example with a loop and then convert that to a list comprehension to see the differences\n",
    "\n"
   ]
  },
  {
   "cell_type": "code",
   "execution_count": 12,
   "metadata": {},
   "outputs": [
    {
     "name": "stdout",
     "output_type": "stream",
     "text": [
      "[1, '2', 'three', True, None]\n"
     ]
    }
   ],
   "source": [
    "# Copy a list - using a for loop\n",
    "\n",
    "my_list = [1,\"2\", \"three\", True, None]\n",
    "my_list_copy = []\n",
    "\n",
    "for el in my_list:\n",
    "    my_list_copy.append(el)\n",
    "\n",
    "print(my_list_copy)"
   ]
  },
  {
   "cell_type": "code",
   "execution_count": 14,
   "metadata": {},
   "outputs": [
    {
     "name": "stdout",
     "output_type": "stream",
     "text": [
      "[1, '2', 'three', True, None]\n"
     ]
    }
   ],
   "source": [
    "# Copy a list - using a list comprehension\n",
    "\n",
    "my_list = [1, \"2\", \"three\", True, None]\n",
    "#              var   |   for loop\n",
    "my_list_copy = [el for el in my_list]\n",
    "print(my_list_copy)"
   ]
  },
  {
   "cell_type": "markdown",
   "metadata": {},
   "source": [
    "### List Comprehensions and Advanced Lists \n",
    "- Vowels - 3 min <--- focus on this\n",
    "- Third Power - 3 min <--- focus on this\n",
    "- Gas Prices - 3 min <--- focus on this\n",
    "- Fizz Buzz - 3 min <--- focus on this\n",
    "- Multiply List - 5 min <--- focus on this\n",
    "- Transpose Matrix - 5 min\n",
    "- Merge Two Sorted Lists - Challenge - 10 min\n",
    "\n",
    "---"
   ]
  },
  {
   "cell_type": "markdown",
   "metadata": {},
   "source": [
    "### Long Projects\n",
    "Bonus: Track The Robot\n"
   ]
  }
 ],
 "metadata": {
  "kernelspec": {
   "display_name": "Python 3",
   "language": "python",
   "name": "python3"
  },
  "language_info": {
   "codemirror_mode": {
    "name": "ipython",
    "version": 3
   },
   "file_extension": ".py",
   "mimetype": "text/x-python",
   "name": "python",
   "nbconvert_exporter": "python",
   "pygments_lexer": "ipython3",
   "version": "3.12.0"
  }
 },
 "nbformat": 4,
 "nbformat_minor": 2
}
