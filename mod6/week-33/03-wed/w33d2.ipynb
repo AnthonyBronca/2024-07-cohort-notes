{
 "cells": [
  {
   "cell_type": "markdown",
   "metadata": {},
   "source": [
    "## Key differences between JavaScript and Python3\n",
    "- Whitespace-aware\n",
    "    - Python prefers indentations to be 4 spaces long\n",
    "    - When you create code blocks, you must indent the next line to align it properly within the code block\n",
    "    - Nested code must be properly indented."
   ]
  },
  {
   "cell_type": "code",
   "execution_count": 1,
   "metadata": {},
   "outputs": [
    {
     "ename": "IndentationError",
     "evalue": "expected an indented block after 'if' statement on line 1 (291767244.py, line 2)",
     "output_type": "error",
     "traceback": [
      "\u001b[0;36m  Cell \u001b[0;32mIn[1], line 2\u001b[0;36m\u001b[0m\n\u001b[0;31m    print('Hello World')\u001b[0m\n\u001b[0m    ^\u001b[0m\n\u001b[0;31mIndentationError\u001b[0m\u001b[0;31m:\u001b[0m expected an indented block after 'if' statement on line 1\n"
     ]
    }
   ],
   "source": [
    "if(True):\n",
    "print('Hello World')\n"
   ]
  },
  {
   "cell_type": "code",
   "execution_count": null,
   "metadata": {},
   "outputs": [],
   "source": [
    "if(True):\n",
    "    print('Hello World')\n"
   ]
  },
  {
   "cell_type": "markdown",
   "metadata": {},
   "source": [
    "- No semi-colons\n",
    "    - One statement per line\n",
    "    - Semi-colons are necessary if you have multiple statements on one line (this is considered bad form)\n",
    "\n",
    "\n",
    "- Declaring functions\n",
    "    - Since python is whitespace-aware you must indent the next line whenever a colon ends a line. Colons create new code blocks in Python\n",
    "\n",
    "\n",
    "The below example would be the same as this in Javascript:\n",
    "\n",
    "```js\n",
    "function doAThing(arg1, arg2){\n",
    "    console.log(arg1, arg2)\n",
    "}\n",
    "doAThing('hello', 'world')\n",
    "```"
   ]
  },
  {
   "cell_type": "code",
   "execution_count": null,
   "metadata": {},
   "outputs": [],
   "source": [
    "def doAThing(arg1, arg2):\n",
    "    print(arg1, arg2)\n",
    "doAThing('hello', 'world')\n"
   ]
  },
  {
   "cell_type": "markdown",
   "metadata": {},
   "source": [
    "## Boolean Logic\n",
    "\n",
    "In Python, the Boolean values `True` and `False` are represented in title case.\n",
    "\n",
    "Equality comparison operators (`==`, `!=`, `<`, `>`, `^`, etc.) return Boolean values.\n",
    "\n",
    "**note: Make sure to capitalize the first letter of the boolean values**\n"
   ]
  },
  {
   "cell_type": "code",
   "execution_count": null,
   "metadata": {},
   "outputs": [],
   "source": [
    "item1 = False\n",
    "item2 = True\n",
    "\n",
    "print(item1, item2)\n"
   ]
  },
  {
   "cell_type": "markdown",
   "metadata": {},
   "source": [
    "### Falsiness\n",
    "\n",
    "Falsey values in Python are:\n",
    "- 0 (for any number type)\n",
    "    - `0`, `0.0`, `0j`\n",
    "- any empty collection\n",
    "    - `\"\"`, `[]`, `set()`, `{}`, `range(0)`\n",
    "- `False`\n",
    "- `None`\n",
    "\n",
    "All other values are truthy!"
   ]
  },
  {
   "cell_type": "code",
   "execution_count": 7,
   "metadata": {},
   "outputs": [
    {
     "name": "stdout",
     "output_type": "stream",
     "text": [
      "We did not here a truthy\n"
     ]
    }
   ],
   "source": [
    "if(0):\n",
    "    print('we are here')\n",
    "else:\n",
    "    print(\"We did not here a truthy\")\n"
   ]
  },
  {
   "cell_type": "code",
   "execution_count": 8,
   "metadata": {},
   "outputs": [
    {
     "name": "stdout",
     "output_type": "stream",
     "text": [
      "We did not get here. Not a truthy\n"
     ]
    }
   ],
   "source": [
    "if \"\":\n",
    "    print(\"we are here\")\n",
    "else:\n",
    "    print(\"We did not get here. Not a truthy\")"
   ]
  },
  {
   "cell_type": "code",
   "execution_count": 9,
   "metadata": {},
   "outputs": [
    {
     "name": "stdout",
     "output_type": "stream",
     "text": [
      "We did not get here. Not a truthy\n"
     ]
    }
   ],
   "source": [
    "if []:\n",
    "    print(\"we are here\")\n",
    "else:\n",
    "    print(\"We did not get here. Not a truthy\")\n"
   ]
  },
  {
   "cell_type": "code",
   "execution_count": null,
   "metadata": {},
   "outputs": [],
   "source": [
    "if None:\n",
    "    print(\"we are here\")\n",
    "else:\n",
    "    print(\"We did not get here. Not a truthy\")"
   ]
  },
  {
   "cell_type": "code",
   "execution_count": null,
   "metadata": {},
   "outputs": [],
   "source": [
    "if 1:\n",
    "    print(\"we are here\")\n",
    "else:\n",
    "    print(\"We did not get here. Not a truthy\")"
   ]
  },
  {
   "cell_type": "markdown",
   "metadata": {},
   "source": [
    "### Logic Operators\n",
    "We use the keywords `and`, `or`, and `not` in Python instead of `&&`, `||`, and `!`\n",
    "\n",
    "Guess the below outputs!"
   ]
  },
  {
   "cell_type": "code",
   "execution_count": 3,
   "metadata": {},
   "outputs": [
    {
     "name": "stdout",
     "output_type": "stream",
     "text": [
      "False\n"
     ]
    }
   ],
   "source": [
    "print(True and False)\n"
   ]
  },
  {
   "cell_type": "code",
   "execution_count": 4,
   "metadata": {},
   "outputs": [
    {
     "name": "stdout",
     "output_type": "stream",
     "text": [
      "True\n"
     ]
    }
   ],
   "source": [
    "print(True or False)\n"
   ]
  },
  {
   "cell_type": "code",
   "execution_count": 5,
   "metadata": {},
   "outputs": [
    {
     "name": "stdout",
     "output_type": "stream",
     "text": [
      "True\n"
     ]
    }
   ],
   "source": [
    "print(True and not False)\n"
   ]
  },
  {
   "cell_type": "markdown",
   "metadata": {},
   "source": [
    "We can group conditions with parentheses.\n",
    "\n",
    "Python will short-circuit on a logical statement if it can already determine the outcome.\n",
    "\n",
    "Time for a bonus round!"
   ]
  },
  {
   "cell_type": "code",
   "execution_count": 6,
   "metadata": {},
   "outputs": [
    {
     "data": {
      "text/plain": [
       "False"
      ]
     },
     "execution_count": 6,
     "metadata": {},
     "output_type": "execute_result"
    }
   ],
   "source": [
    "False and print(\"will this print\")\n"
   ]
  },
  {
   "cell_type": "markdown",
   "metadata": {},
   "source": [
    "### If statements\n",
    "\n",
    "If statement structure resembles Javascript.\n",
    "\n",
    "In Python, the if statement keywords are:\n",
    "- `if`\n",
    "- `elif`\n",
    "- `else`"
   ]
  },
  {
   "cell_type": "code",
   "execution_count": null,
   "metadata": {},
   "outputs": [],
   "source": [
    "if 0:\n",
    "    print('if block')\n",
    "elif 1:\n",
    "    print(\"elif block\")\n",
    "else:\n",
    "    print(\"else block\")\n"
   ]
  },
  {
   "cell_type": "markdown",
   "metadata": {},
   "source": [
    "### Boolean Practices (15 min) PRACTICE TIME!\n",
    "- Using Not Or - 2 min\n",
    "- Length of List - 2 min\n",
    "- Has Remainder - 2 min\n",
    "- Xor - 2 min\n",
    "- DeMorgan's Law - Challenge - 10 min\n",
    "-----------------------------"
   ]
  },
  {
   "cell_type": "markdown",
   "metadata": {},
   "source": [
    "## Strings\n",
    "\n",
    "---\n",
    "\n",
    "Just like JavaScript, strings in Python are immutable collections of characters.\n",
    "\n",
    "- In Python, single quotes (`'`) and double quotes (`\"`) are interchangeable\n",
    "- Using three quotes in a row (either `\"\"\"` or `'''`) will open a multiline string"
   ]
  },
  {
   "cell_type": "code",
   "execution_count": 10,
   "metadata": {},
   "outputs": [
    {
     "data": {
      "text/plain": [
       "'\\nHow much wood, could a wood chuck chuck\\nIf a wood chuck could chuck wood?\\n'"
      ]
     },
     "execution_count": 10,
     "metadata": {},
     "output_type": "execute_result"
    }
   ],
   "source": [
    "my_long_string = '''\n",
    "How much wood, could a wood chuck chuck\n",
    "If a wood chuck could chuck wood?\n",
    "'''\n",
    "\n",
    "my_long_string\n"
   ]
  },
  {
   "cell_type": "markdown",
   "metadata": {},
   "source": [
    "### String Interpolation\n",
    "\n",
    "In Python version 3.6, `f` strings were introduced as the preferred method of string interpolation.\n",
    "\n",
    "String formatting with `f` strings:"
   ]
  },
  {
   "cell_type": "code",
   "execution_count": null,
   "metadata": {},
   "outputs": [],
   "source": [
    "word = \"hello\"\n",
    "\n",
    "print(f\"{word} world\")\n"
   ]
  },
  {
   "cell_type": "markdown",
   "metadata": {},
   "source": [
    "You can read about more [traditional methods of string interpolation in the PEP 498 documentation](https://peps.python.org/pep-0498/)!"
   ]
  },
  {
   "cell_type": "markdown",
   "metadata": {},
   "source": [
    "Guess the outputs!"
   ]
  },
  {
   "cell_type": "code",
   "execution_count": 2,
   "metadata": {},
   "outputs": [],
   "source": [
    "a = \"a\"\n",
    "b = \"b\"\n",
    "an = \"an\"\n"
   ]
  },
  {
   "cell_type": "code",
   "execution_count": 3,
   "metadata": {},
   "outputs": [
    {
     "name": "stdout",
     "output_type": "stream",
     "text": [
      "ban\n"
     ]
    }
   ],
   "source": [
    "print(b + an)\n"
   ]
  },
  {
   "cell_type": "code",
   "execution_count": 4,
   "metadata": {},
   "outputs": [
    {
     "name": "stdout",
     "output_type": "stream",
     "text": [
      "baaaaaaa\n"
     ]
    }
   ],
   "source": [
    "print(b + a*7)\n"
   ]
  },
  {
   "cell_type": "code",
   "execution_count": 5,
   "metadata": {},
   "outputs": [
    {
     "name": "stdout",
     "output_type": "stream",
     "text": [
      "banana\n"
     ]
    }
   ],
   "source": [
    "print(b + an*2 + a)\n"
   ]
  },
  {
   "cell_type": "code",
   "execution_count": 6,
   "metadata": {},
   "outputs": [
    {
     "name": "stdout",
     "output_type": "stream",
     "text": [
      "$1,000,000,000\n"
     ]
    }
   ],
   "source": [
    "print(\"$1\" + \",000\"*3)\n"
   ]
  },
  {
   "cell_type": "markdown",
   "metadata": {},
   "source": [
    "### String indexing\n",
    "\n",
    "- Use square brackets (`[]`)\n",
    "- Index starts at 0 (like in JavaScript)"
   ]
  },
  {
   "cell_type": "code",
   "execution_count": 17,
   "metadata": {},
   "outputs": [
    {
     "name": "stdout",
     "output_type": "stream",
     "text": [
      "S\n",
      "h\n"
     ]
    }
   ],
   "source": [
    "# Regular indexing\n",
    "print(\"Spaghetti\"[0])\n",
    "print(\"Spaghetti\"[4])\n"
   ]
  },
  {
   "cell_type": "code",
   "execution_count": 18,
   "metadata": {},
   "outputs": [
    {
     "name": "stdout",
     "output_type": "stream",
     "text": [
      "i\n",
      "e\n"
     ]
    }
   ],
   "source": [
    "# Negative indexing (goes backward)\n",
    "print(\"Spaghetti\"[-1])\n",
    "print(\"Spaghetti\"[-4])\n"
   ]
  },
  {
   "cell_type": "markdown",
   "metadata": {},
   "source": [
    "- Can index a range with ``[start:stop]``. The `stop` value is excluded from the resulting range!"
   ]
  },
  {
   "cell_type": "code",
   "execution_count": 19,
   "metadata": {},
   "outputs": [
    {
     "name": "stdout",
     "output_type": "stream",
     "text": [
      "pag\n",
      "hett\n"
     ]
    }
   ],
   "source": [
    "print(\"Spaghetti\"[1:4])  # pag\n",
    "print(\"Spaghetti\"[4:-1])  # hett\n"
   ]
  },
  {
   "cell_type": "markdown",
   "metadata": {},
   "source": [
    "### Built-in string methods\n",
    "\n",
    "There are many built-in methods on the string data type in Python:\n",
    "- `.index()`: returns the first index where a substring is found\n",
    "- `.count()`: returns the number of times a substring is found\n",
    "- `.split()`: returns a list of substrings, split on a character or substring\n",
    "- `.join()`: use a given string to join all the substrings from a list\n",
    "- `.upper()`, `.lower()`, and `.title()`: transform a string to the specified case\n",
    "\n",
    "And many more!"
   ]
  },
  {
   "cell_type": "markdown",
   "metadata": {},
   "source": [
    "### String Practices (35 min)\n",
    "- Indexing Strings - 2 min\n",
    "- String Immutability - 2 min\n",
    "- Index Of - 2 min\n",
    "- Is The Last Character N? - 3 min\n",
    "- Burrrrrp - 5 min\n",
    "- Last Three - 5 min\n",
    "- Is Palindrome - 5 min\n",
    "- Recursive String - 5 min\n",
    "\n",
    "--------------"
   ]
  },
  {
   "cell_type": "markdown",
   "metadata": {},
   "source": [
    "## Numbers\n",
    "\n",
    "---\n",
    "\n",
    "### Number Data Types\n",
    "We'll mostly interact with `int` and `float` types\n",
    "- `int` (integers): counting numbers with no decimal points\n",
    "- `float` (floating point numbers): numbers with decimal places.\n",
    "    - They may occasionally have rounding errors, just like JavaScript\n",
    "    - see [documentation on floating point arithmetic](https://docs.python.org/3/tutorial/floatingpoint.html)\n",
    "- `complex`: complex numbers\n",
    "---\n",
    "\n",
    "| Operator | Meaning          | Example                |\n",
    "| :------: | :--------------- | :--------------------- |\n",
    "|   `+`    | addition         | `print(10+4)  # 14`    |\n",
    "|   `-`    | subtraction      | `print(10-4)  # 6`     |\n",
    "|   `*`    | multiplication   | `print(10*4)  # 40`    |\n",
    "|   `/`    | division         | `print(10/4)  # 2.25`  |\n",
    "|   `%`    | modulo           | `print(10%4)  # 2`     |\n",
    "|   `**`   | exponent         | `print(10**4) # 10000` |\n",
    "|   `//`   | integer division | `print(10//4) # 2`     |\n",
    "\n",
    "\n",
    "---"
   ]
  },
  {
   "cell_type": "markdown",
   "metadata": {},
   "source": [
    "### Assignment operators\n",
    "We can use assignment operators (like in JavaScript) to concisely update values"
   ]
  },
  {
   "cell_type": "code",
   "execution_count": 7,
   "metadata": {},
   "outputs": [
    {
     "name": "stdout",
     "output_type": "stream",
     "text": [
      "5\n"
     ]
    }
   ],
   "source": [
    "a = 2\n",
    "a += 3\n",
    "print(a)\n"
   ]
  },
  {
   "cell_type": "code",
   "execution_count": 8,
   "metadata": {},
   "outputs": [
    {
     "name": "stdout",
     "output_type": "stream",
     "text": [
      "10\n"
     ]
    }
   ],
   "source": [
    "a *= 2\n",
    "print(a)\n"
   ]
  },
  {
   "cell_type": "markdown",
   "metadata": {},
   "source": [
    "But no more `++` or `--`. \n",
    "\n",
    "RIP 🪦"
   ]
  },
  {
   "cell_type": "code",
   "execution_count": 9,
   "metadata": {},
   "outputs": [
    {
     "ename": "SyntaxError",
     "evalue": "invalid syntax (1405306522.py, line 1)",
     "output_type": "error",
     "traceback": [
      "\u001b[0;36m  Cell \u001b[0;32mIn[9], line 1\u001b[0;36m\u001b[0m\n\u001b[0;31m    a++\u001b[0m\n\u001b[0m       ^\u001b[0m\n\u001b[0;31mSyntaxError\u001b[0m\u001b[0;31m:\u001b[0m invalid syntax\n"
     ]
    }
   ],
   "source": [
    "a++\n"
   ]
  },
  {
   "cell_type": "markdown",
   "metadata": {},
   "source": [
    "### Number Practices (35 min)\n",
    "- Integer Division - 2 min\n",
    "- Total Digits - 5 min\n",
    "- Perfect Square - 2 min\n",
    "- Recursive Fibonacci - 10 min\n",
    "- Recursive Countdown - 10 min\n",
    "- Recursive Is Prime - Challenge - 10 min\n",
    "\n",
    "\n",
    "---\n"
   ]
  }
 ],
 "metadata": {
  "kernelspec": {
   "display_name": "Python 3",
   "language": "python",
   "name": "python3"
  },
  "language_info": {
   "codemirror_mode": {
    "name": "ipython",
    "version": 3
   },
   "file_extension": ".py",
   "mimetype": "text/x-python",
   "name": "python",
   "nbconvert_exporter": "python",
   "pygments_lexer": "ipython3",
   "version": "3.12.0"
  }
 },
 "nbformat": 4,
 "nbformat_minor": 2
}
