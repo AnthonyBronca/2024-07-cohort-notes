{
 "cells": [
  {
   "cell_type": "markdown",
   "metadata": {},
   "source": [
    "## Assigning Variables\n",
    "---\n",
    "- No variable declaration keywords such as let, const, or var\n",
    "- Assigning a value automatically declares a variable\n",
    "- Can chain variable assignment together if you are assigning the same value to multiple variables"
   ]
  },
  {
   "cell_type": "code",
   "execution_count": 1,
   "metadata": {},
   "outputs": [
    {
     "name": "stdout",
     "output_type": "stream",
     "text": [
      "0\n",
      "0\n",
      "0\n"
     ]
    }
   ],
   "source": [
    "count = max = min = 0\n",
    "print(count)\n",
    "print(max)\n",
    "print(min)"
   ]
  },
  {
   "cell_type": "markdown",
   "metadata": {},
   "source": [
    "## Python Datatypes\n",
    "\n",
    "---\n",
    " - Integer numeric datatype without decimals\n",
    "    - num = 1, num = int(1), isinstance(<variable_your_checking>, str)\n",
    " - Float numeric datatype with decimals\n",
    "    - num = 1.2, num = float(1.2), isinstance(<variable_your_checking>, float)\n",
    " - String is a collection of alphabetic letters, words or other characters.\n",
    "     - string = \"string\", string = 'string', isinstance(<variable_your_checking>, str) -- immutable\n",
    " - List (JS equivelant Array) is an ordered and changeable collection of data objects\n",
    "    - lst = ['h', 'i'], lst = list('hi'), isinstance(<variable_your_checking>, list) -- mutable\n",
    " - Dictionary (Js equivelant Object) is a list of comma-separated key-value pairs wrapped around curly braces ({}).\n",
    "    - dictionary = {},  dict(key = \"value\"), isinstance(<variable_your_checking>, dict) -- mutable\n",
    " - Tuple is an ordered and unchangeable collection of data objects\n",
    "    - tup = ('h', 'i'), tup = tuple('hi), isinstance(<variable_your_checking>, tuple) -- immutable\n",
    " - Set (Js equivelant Set) an unordered and changeable collection of unique data objects\n",
    "    - my_set = set('hi'), my_set.add('bye), my_set.discard('bye'), isinstance(<variable_your_checking>, set) -- mutable\n",
    "\n",
    "---"
   ]
  },
  {
   "cell_type": "markdown",
   "metadata": {},
   "source": [
    "## The None Type\n",
    "\n",
    "---\n",
    "- Python uses the None type instead of null\n",
    "- None represents an object of type NoneType, this means you can use NoneType in any place you would use another object\n",
    "```python\n",
    "my_var = None\n",
    "print(my_var is None)\n",
    "```\n",
    "---"
   ]
  },
  {
   "cell_type": "markdown",
   "metadata": {},
   "source": [
    "## Operators\n",
    "\n",
    "---\n",
    "\n",
    "### Identity vs. Equality\n",
    "\n",
    "In Python, we have `is` to compare identity and `==` to compare equality.\n",
    "\n",
    "Both are useful, just for different purposes.\n",
    "\n",
    "---\n",
    "\n",
    "### Equality Comparison\n",
    "\n",
    "- In JavaScript, `===` is preferred because it does strict equality comparison (value and type)\n",
    "- In Python, equality is not about typechecking, it's just about whether the values are the same\n",
    "```python=\n",
    "my_int = 4\n",
    "my_float = 4.0\n",
    "\n",
    "# check if the values are the same\n",
    "print(my_int == my_float)  # True\n",
    "\n",
    "# check if the values are the same and check type\n",
    "print(my_int == my_float and isinstance(my_int, float))  # False\n",
    "```\n",
    "\n",
    "---"
   ]
  },
  {
   "cell_type": "code",
   "execution_count": null,
   "metadata": {},
   "outputs": [],
   "source": [
    "1 == \"1\""
   ]
  },
  {
   "cell_type": "code",
   "execution_count": 1,
   "metadata": {},
   "outputs": [
    {
     "name": "stdout",
     "output_type": "stream",
     "text": [
      "False\n"
     ]
    }
   ],
   "source": [
    "a = [1,2,3]\n",
    "b = [1,2,3]\n",
    "\n",
    "print(a is b)"
   ]
  },
  {
   "cell_type": "code",
   "execution_count": 2,
   "metadata": {},
   "outputs": [
    {
     "name": "stdout",
     "output_type": "stream",
     "text": [
      "we are here\n"
     ]
    }
   ],
   "source": [
    "if a is not None:\n",
    "    print('we are here')"
   ]
  },
  {
   "cell_type": "code",
   "execution_count": 3,
   "metadata": {},
   "outputs": [
    {
     "name": "stdout",
     "output_type": "stream",
     "text": [
      "we are here\n"
     ]
    }
   ],
   "source": [
    "if a != None:\n",
    "    print('we are here')"
   ]
  },
  {
   "cell_type": "code",
   "execution_count": null,
   "metadata": {},
   "outputs": [],
   "source": [
    "if 1 == True:\n",
    "    print('we are here')"
   ]
  },
  {
   "cell_type": "markdown",
   "metadata": {},
   "source": [
    "\n",
    "### While loops\n",
    "\n",
    "While loops also follow a very similar structure to JavaScript.\n",
    "\n",
    "```python=\n",
    "i = 0\n",
    "while i < 5:\n",
    "    print(f\"{i}. Hello, world.\")\n",
    "    i += 1\n",
    "\n",
    "print(\"You've printed 5 times. Goodbye.\")\n",
    "```\n",
    "\n",
    "---"
   ]
  },
  {
   "cell_type": "code",
   "execution_count": null,
   "metadata": {},
   "outputs": [],
   "source": [
    "word = \"Hello\"\n",
    "i = 0\n",
    "\n",
    "while i < len(word):\n",
    "    print(word[i])\n",
    "    i += 1\n"
   ]
  },
  {
   "cell_type": "markdown",
   "metadata": {},
   "source": [
    "---\n",
    "\n",
    "### Loop keywords: `continue` and `break`\n",
    "\n",
    "- `continue`: goes to the next iteration of the loop\n",
    "- `break`: exits out of the loop completely\n",
    "```python=\n",
    "i = 0\n",
    "while True:\n",
    "    print(f\"{i}. Hello, world.\")\n",
    "    if i < 4:\n",
    "        i += 1\n",
    "        continue\n",
    "    print(\"You've printed 5 times. Goodbye.\")\n",
    "    break\n",
    "```\n",
    "\n",
    "---"
   ]
  },
  {
   "cell_type": "markdown",
   "metadata": {},
   "source": [
    "### For loops\n",
    "\n",
    "- `for` keyword to start the loop\n",
    "- `in` iterates over each element in the sequence\n",
    "- We do not need to define an iterator variable!\n",
    "\n",
    "```python=\n",
    "items = ['a', 'b', 'c']\n",
    "\n",
    "for item in items:\n",
    "    print(item)\n",
    "```\n",
    "\n",
    "---"
   ]
  },
  {
   "cell_type": "code",
   "execution_count": null,
   "metadata": {},
   "outputs": [],
   "source": [
    "my_list = [\"a\", \"b\", \"c\", \"d\"]\n",
    "\n",
    "for char in my_list:\n",
    "    print(char)"
   ]
  },
  {
   "cell_type": "code",
   "execution_count": null,
   "metadata": {},
   "outputs": [],
   "source": [
    "for idx in range(len(my_list)):\n",
    "    print(idx)\n",
    "    print(my_list[idx])"
   ]
  },
  {
   "cell_type": "markdown",
   "metadata": {},
   "source": [
    "### Try/Except statements\n",
    "\n",
    "#### Better to ask forgiveness than permission\n",
    "\n",
    "A pythonic principle & fundamental part of Python control flow\n",
    "\n",
    "---\n",
    "\n",
    "### Control flow with `try/except` blocks\n",
    "\n",
    "Keywords:\n",
    "- `try`: run this code until an exception occurs\n",
    "- `except`: run this code when an exception occurs\n",
    "- `else`: run this code only if no exception occurs\n",
    "- `finally`: run this code no matter what\n",
    "\n",
    "\n",
    "---\n",
    "\n",
    "Help me print out the specific error we get here!"
   ]
  },
  {
   "cell_type": "code",
   "execution_count": null,
   "metadata": {},
   "outputs": [],
   "source": [
    "num = 0\n",
    "try:\n",
    "    print(\"Trying now...\")\n",
    "    print(4/num)\n",
    "finally:\n",
    "    print(\"This happens no matter what\")"
   ]
  },
  {
   "cell_type": "markdown",
   "metadata": {},
   "source": [
    "### Statements Practices\n",
    "- Try/Except - 2 min\n",
    "- Print List - 2 min\n",
    "- Check Membership - 2 min\n",
    "- Double That Penny - 5 min\n",
    "- Valid Hex Code - 10 min\n",
    "- Sequence of Numbers - 30 min  (save this one for last)\n",
    "- Split On Capitals - 10 min\n",
    "- Count Characters In String - 5 min\n",
    "- Vowel Count - 2 min\n",
    "- Add Upper - 2 min\n",
    "- Regex - Challenge - 10 min\n",
    "\n",
    "\n",
    "---\n"
   ]
  },
  {
   "cell_type": "markdown",
   "metadata": {},
   "source": [
    "## Functions\n",
    "\n",
    "---\n",
    "\n",
    "### Python Functions\n",
    "- We use the `def` keyword to define a function followed by:\n",
    "    - The name of the function\n",
    "    - The parameters that it accepts\n",
    "    - A new block identified as `:` and indent the next line"
   ]
  },
  {
   "cell_type": "markdown",
   "metadata": {},
   "source": [
    "### Lambda Functions\n",
    "\n",
    "- For simple one-line functions, we can also use a lambda, which takes in:\n",
    "    -  Parameters on left side of `:`\n",
    "    -  Returns the value resulting from the right side of the `:`\n",
    "-  They return automatically and cannot contain an explicit `return` keyword\n",
    "-  Lambda functions are meant to be anonymous, one-liner functions\n"
   ]
  },
  {
   "cell_type": "code",
   "execution_count": 12,
   "metadata": {},
   "outputs": [
    {
     "name": "stdout",
     "output_type": "stream",
     "text": [
      "True\n"
     ]
    }
   ],
   "source": [
    "is_even = lambda num: num % 2 == 0\n",
    "print(is_even(8))"
   ]
  },
  {
   "cell_type": "markdown",
   "metadata": {},
   "source": [
    "For comparison, this is the JS equvilent\n",
    "\n",
    "```js\n",
    "const isEven = (num) => num % 2 === 0;\n",
    "console.log(isEven(8))\n",
    "\n",
    "```"
   ]
  },
  {
   "cell_type": "markdown",
   "metadata": {},
   "source": [
    "### Docstrings\n",
    "\n",
    "A docstring is a string literal that is used to document a function, class, or module."
   ]
  },
  {
   "cell_type": "code",
   "execution_count": 13,
   "metadata": {},
   "outputs": [],
   "source": [
    "def my_func():\n",
    "    \"\"\"sumary_line\n",
    "    This is my func, it does nothing.\n",
    "    Keyword arguments:\n",
    "    argument -- dont pass anything in\n",
    "    Return: does not return anything\n",
    "    \"\"\"\n",
    "    pass\n"
   ]
  },
  {
   "cell_type": "code",
   "execution_count": 14,
   "metadata": {},
   "outputs": [
    {
     "name": "stdout",
     "output_type": "stream",
     "text": [
      "Help on function my_func in module __main__:\n",
      "\n",
      "my_func()\n",
      "    sumary_line\n",
      "    This is my func, it does nothing.\n",
      "    Keyword arguments:\n",
      "    argument -- dont pass anything in\n",
      "    Return: does not return anything\n",
      "\n"
     ]
    }
   ],
   "source": [
    "help(my_func)"
   ]
  },
  {
   "cell_type": "code",
   "execution_count": 15,
   "metadata": {},
   "outputs": [
    {
     "name": "stdout",
     "output_type": "stream",
     "text": [
      "sumary_line\n",
      "    This is my func, it does nothing.\n",
      "    Keyword arguments:\n",
      "    argument -- dont pass anything in\n",
      "    Return: does not return anything\n",
      "    \n"
     ]
    }
   ],
   "source": [
    "print(my_func.__doc__)"
   ]
  },
  {
   "cell_type": "markdown",
   "metadata": {},
   "source": [
    "### Adding n amount of Positional args\n",
    "- In javascript we are able to use the rest operator (...) to add positional arguments to a function and store them in an array.\n",
    "- We have something similar we can use is python. with the (*) operator\n",
    "\n",
    "```js\n",
    "// js example\n",
    "function add(a, b, ...args) {\n",
    "  let total = a + b;\n",
    "  console.log('extra args', args, Array.isArray(args))\n",
    "  for (let n of args) {\n",
    "    total += n;\n",
    "  }\n",
    "  return total;\n",
    "}\n",
    "\n",
    "\n",
    "add(2, 3, 4, 5) // returns 14\n",
    "```"
   ]
  },
  {
   "cell_type": "code",
   "execution_count": 16,
   "metadata": {},
   "outputs": [
    {
     "name": "stdout",
     "output_type": "stream",
     "text": [
      "extra args (4, 5, 6)\n"
     ]
    },
    {
     "data": {
      "text/plain": [
       "20"
      ]
     },
     "execution_count": 16,
     "metadata": {},
     "output_type": "execute_result"
    }
   ],
   "source": [
    "def add(a, b, *args):\n",
    "    total = a + b\n",
    "    print('extra args', args)\n",
    "    for n in args:\n",
    "        total += n\n",
    "    return total\n",
    "\n",
    "add(2,3,4,5,6)\n"
   ]
  },
  {
   "cell_type": "markdown",
   "metadata": {},
   "source": [
    "### Keyword arguments\n",
    "- Unlike JavaScript, Python has the built-in ability to specify arguments by name without resorting to destructuring. You can just write the name of the parameter and an equal sign before the value you pass as a parameter. By specifying the names of the arguments, you can provide them in any order.\n"
   ]
  },
  {
   "cell_type": "code",
   "execution_count": 17,
   "metadata": {},
   "outputs": [
    {
     "name": "stdout",
     "output_type": "stream",
     "text": [
      "I'll be back Anthony\n"
     ]
    }
   ],
   "source": [
    "def greeting(name, saying=\"Hello\"):\n",
    "    print(saying, name)\n",
    "\n",
    "greeting(saying = \"I'll be back\", name = \"Anthony\")"
   ]
  },
  {
   "cell_type": "code",
   "execution_count": 18,
   "metadata": {},
   "outputs": [
    {
     "name": "stdout",
     "output_type": "stream",
     "text": [
      "I'll be back Anthony\n"
     ]
    }
   ],
   "source": [
    "def greeting(name, saying=\"Hello\"):\n",
    "    print(saying, name)\n",
    "\n",
    "\n",
    "greeting( name=\"Anthony\", saying=\"I'll be back\",)"
   ]
  },
  {
   "cell_type": "code",
   "execution_count": 19,
   "metadata": {},
   "outputs": [
    {
     "name": "stdout",
     "output_type": "stream",
     "text": [
      "Hello Anthony\n"
     ]
    }
   ],
   "source": [
    "def greeting(name, saying=\"Hello\"):\n",
    "    print(saying, name)\n",
    "\n",
    "\n",
    "greeting(\n",
    "    name=\"Anthony\",\n",
    ")"
   ]
  },
  {
   "cell_type": "markdown",
   "metadata": {},
   "source": [
    "### Indexing with lists\n",
    "\n",
    "Indexing with lists uses the same syntax as indexing with strings:\n",
    "\n",
    "- Single index: `list_name[single_index]`\n",
    "- Index range: `list_name[start:stop:step]`\n",
    "\n"
   ]
  },
  {
   "cell_type": "code",
   "execution_count": 1,
   "metadata": {},
   "outputs": [
    {
     "name": "stdout",
     "output_type": "stream",
     "text": [
      "[1, 3, 5, 7, 9]\n"
     ]
    }
   ],
   "source": [
    "some_list = [1,2,3,4,5,6,7,8,9]\n",
    "\n",
    "print(some_list[0::2])"
   ]
  },
  {
   "cell_type": "markdown",
   "metadata": {},
   "source": [
    "List built-ins\n",
    "\n",
    "- length\n",
    "- indexing\n",
    "- append and remove\n",
    "- sorting\n",
    "- sum, min, max"
   ]
  },
  {
   "cell_type": "code",
   "execution_count": 2,
   "metadata": {},
   "outputs": [
    {
     "data": {
      "text/plain": [
       "9"
      ]
     },
     "execution_count": 2,
     "metadata": {},
     "output_type": "execute_result"
    }
   ],
   "source": [
    "len(some_list)"
   ]
  },
  {
   "cell_type": "code",
   "execution_count": 3,
   "metadata": {},
   "outputs": [
    {
     "name": "stdout",
     "output_type": "stream",
     "text": [
      "[1, 2, 3, 4, 5, 6, 7, 8, 9, 10]\n"
     ]
    }
   ],
   "source": [
    "some_list.append(10)\n",
    "print(some_list)"
   ]
  },
  {
   "cell_type": "code",
   "execution_count": 4,
   "metadata": {},
   "outputs": [
    {
     "name": "stdout",
     "output_type": "stream",
     "text": [
      "[1, 2, 3, 4, 5, 6, 7, 8, 9, 10, 10]\n"
     ]
    }
   ],
   "source": [
    "some_list.append(10) #duplicate to create one for remove in next step\n",
    "print(some_list)"
   ]
  },
  {
   "cell_type": "code",
   "execution_count": 5,
   "metadata": {},
   "outputs": [
    {
     "name": "stdout",
     "output_type": "stream",
     "text": [
      "[1, 2, 3, 4, 5, 6, 7, 8, 9, 10]\n"
     ]
    }
   ],
   "source": [
    "some_list.remove(10)\n",
    "print(some_list)"
   ]
  },
  {
   "cell_type": "code",
   "execution_count": 6,
   "metadata": {},
   "outputs": [
    {
     "data": {
      "text/plain": [
       "[2, 3, 4, 5, 6, 7, 8, 9, 10]"
      ]
     },
     "execution_count": 6,
     "metadata": {},
     "output_type": "execute_result"
    }
   ],
   "source": [
    "some_list.remove(1)\n",
    "some_list"
   ]
  },
  {
   "cell_type": "code",
   "execution_count": 7,
   "metadata": {},
   "outputs": [
    {
     "name": "stdout",
     "output_type": "stream",
     "text": [
      "[1, 2, 3, 4, 5, 6, 7, 8, 9, 10]\n"
     ]
    }
   ],
   "source": [
    "some_list.insert(0, 1) #index to insert, what to insert\n",
    "print(some_list)"
   ]
  },
  {
   "cell_type": "code",
   "execution_count": null,
   "metadata": {},
   "outputs": [],
   "source": []
  }
 ],
 "metadata": {
  "kernelspec": {
   "display_name": "Python 3",
   "language": "python",
   "name": "python3"
  },
  "language_info": {
   "codemirror_mode": {
    "name": "ipython",
    "version": 3
   },
   "file_extension": ".py",
   "mimetype": "text/x-python",
   "name": "python",
   "nbconvert_exporter": "python",
   "pygments_lexer": "ipython3",
   "version": "3.9.4"
  }
 },
 "nbformat": 4,
 "nbformat_minor": 2
}
