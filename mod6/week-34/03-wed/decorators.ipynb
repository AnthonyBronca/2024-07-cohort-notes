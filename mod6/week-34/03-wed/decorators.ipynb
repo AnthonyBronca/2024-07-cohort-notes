{
 "cells": [
  {
   "cell_type": "markdown",
   "metadata": {},
   "source": [
    "# Decorators in Python\n",
    "\n",
    "Functions are first-class objects in Python.\n",
    "This means they can be passed around and used are arguments"
   ]
  },
  {
   "cell_type": "code",
   "execution_count": 8,
   "metadata": {},
   "outputs": [
    {
     "name": "stdout",
     "output_type": "stream",
     "text": [
      "Welcome, Anthony\n"
     ]
    }
   ],
   "source": [
    "def greet(name):\n",
    "    return f\"Welcome, {name}\"\n",
    "\n",
    "def wrap_greet(func, name):\n",
    "    return func(name)\n",
    "\n",
    "print(wrap_greet(greet, 'Anthony'))"
   ]
  },
  {
   "cell_type": "markdown",
   "metadata": {},
   "source": [
    "Python supports higher-order functions.\n",
    "These are functions that take other functions as args and/or return functions\n"
   ]
  },
  {
   "cell_type": "code",
   "execution_count": 9,
   "metadata": {},
   "outputs": [],
   "source": [
    "def make_pretty(func):\n",
    "    def inner():\n",
    "        print(\"I got decorated\")\n",
    "        func()\n",
    "    return inner\n"
   ]
  },
  {
   "cell_type": "code",
   "execution_count": 10,
   "metadata": {},
   "outputs": [],
   "source": [
    "def ordinary():\n",
    "    print(\"I am ordinary\")\n"
   ]
  },
  {
   "cell_type": "code",
   "execution_count": 11,
   "metadata": {},
   "outputs": [
    {
     "name": "stdout",
     "output_type": "stream",
     "text": [
      "I got decorated\n",
      "I am ordinary\n"
     ]
    }
   ],
   "source": [
    "pretty = make_pretty(ordinary)\n",
    "pretty()"
   ]
  },
  {
   "cell_type": "markdown",
   "metadata": {},
   "source": [
    "So what just happened?\n",
    "\n",
    "We assigned the return value of `make pretty` to a variable called `pretty`\n",
    "\n",
    "`pretty` points to -> Function `inner`, which was returned by `make_pretty`\n",
    "\n",
    "We now invoke `pretty` thus we run:\n",
    "\n",
    "`inner()` -> prints \"I got decorated\" and also executed func from the outter function which runs \"I am ordinary\"\n",
    "\n",
    "\n",
    "This is called decorations (without sugars), in other words, a closure!"
   ]
  },
  {
   "cell_type": "markdown",
   "metadata": {},
   "source": [
    "### Decorators (syntactic sugar)\n",
    "\n",
    "We use `@` symbol to make a decorator cleaner.\n",
    "\n",
    "This essentially replaces `make_pretty(ordinary)`"
   ]
  },
  {
   "cell_type": "code",
   "execution_count": null,
   "metadata": {},
   "outputs": [],
   "source": [
    "@make_pretty\n",
    "def ordinary():\n",
    "    print(\"I am ordinary again\")\n",
    "ordinary()"
   ]
  },
  {
   "cell_type": "markdown",
   "metadata": {},
   "source": [
    "Let's try doing this to make a decorator to multiply by 2s\n",
    "\n",
    "We'll start with a version without the decorator symbol"
   ]
  },
  {
   "cell_type": "code",
   "execution_count": null,
   "metadata": {},
   "outputs": [],
   "source": [
    "def doubler(func):\n",
    "    def inner(num):\n",
    "        func(num * 2)\n",
    "    return inner\n",
    "\n",
    "\n",
    "def my_print(el):\n",
    "    print(el)\n",
    "\n",
    "double = doubler(my_print)\n",
    "double(4)\n",
    "double(3)"
   ]
  },
  {
   "cell_type": "markdown",
   "metadata": {},
   "source": [
    "Now let's redo this with a function that triples, using decorator symbol"
   ]
  },
  {
   "cell_type": "code",
   "execution_count": null,
   "metadata": {},
   "outputs": [],
   "source": [
    "def tripler(func):\n",
    "    def inner(num):\n",
    "        func(num * 3)\n",
    "    return inner\n",
    "\n",
    "@tripler\n",
    "def my_triple_print(el):\n",
    "    print(el)\n",
    "\n",
    "my_triple_print(3)"
   ]
  }
 ],
 "metadata": {
  "kernelspec": {
   "display_name": "Python 3",
   "language": "python",
   "name": "python3"
  },
  "language_info": {
   "codemirror_mode": {
    "name": "ipython",
    "version": 3
   },
   "file_extension": ".py",
   "mimetype": "text/x-python",
   "name": "python",
   "nbconvert_exporter": "python",
   "pygments_lexer": "ipython3",
   "version": "3.9.4"
  }
 },
 "nbformat": 4,
 "nbformat_minor": 2
}
